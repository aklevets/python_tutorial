{
  "nbformat": 4,
  "nbformat_minor": 0,
  "metadata": {
    "colab": {
      "provenance": []
    },
    "kernelspec": {
      "name": "python3",
      "display_name": "Python 3"
    },
    "language_info": {
      "name": "python"
    }
  },
  "cells": [
    {
      "cell_type": "code",
      "execution_count": 1,
      "metadata": {
        "id": "3Z4GP7PX4fAv"
      },
      "outputs": [],
      "source": [
        "def square(side):\n",
        "  perimeter = side * 4\n",
        "  sqr = side * side\n",
        "  diagonal = side ** 0.5\n",
        "  result = (perimeter, sqr, diagonal)\n",
        "\n",
        "  return result"
      ]
    },
    {
      "cell_type": "code",
      "source": [
        "print(square(50))"
      ],
      "metadata": {
        "colab": {
          "base_uri": "https://localhost:8080/"
        },
        "id": "y3gs5xSu9Lfl",
        "outputId": "1cde7db4-b781-41ce-e980-c578331d11b5"
      },
      "execution_count": 3,
      "outputs": [
        {
          "output_type": "stream",
          "name": "stdout",
          "text": [
            "(200, 2500, 7.0710678118654755)\n"
          ]
        }
      ]
    }
  ]
}