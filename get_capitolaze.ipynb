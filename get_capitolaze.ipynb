{
  "nbformat": 4,
  "nbformat_minor": 0,
  "metadata": {
    "colab": {
      "provenance": []
    },
    "kernelspec": {
      "name": "python3",
      "display_name": "Python 3"
    },
    "language_info": {
      "name": "python"
    }
  },
  "cells": [
    {
      "cell_type": "code",
      "execution_count": 28,
      "metadata": {
        "id": "3rzWGOVJ2WXQ"
      },
      "outputs": [],
      "source": [
        "def capitalize(string):\n",
        "\n",
        "  return string.title()"
      ]
    },
    {
      "cell_type": "code",
      "source": [
        "str1 = \"You want to set a better example for your sister\"\n",
        "\n",
        "print(capitalize(str1))"
      ],
      "metadata": {
        "colab": {
          "base_uri": "https://localhost:8080/"
        },
        "id": "1lvkxYgE39Cp",
        "outputId": "164e9f2e-4899-4d4f-c314-af1a82ab731b"
      },
      "execution_count": 29,
      "outputs": [
        {
          "output_type": "stream",
          "name": "stdout",
          "text": [
            "You Want To Set A Better Example For Your Sister\n"
          ]
        }
      ]
    }
  ]
}