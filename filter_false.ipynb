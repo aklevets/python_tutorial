{
  "nbformat": 4,
  "nbformat_minor": 0,
  "metadata": {
    "colab": {
      "provenance": []
    },
    "kernelspec": {
      "name": "python3",
      "display_name": "Python 3"
    },
    "language_info": {
      "name": "python"
    }
  },
  "cells": [
    {
      "cell_type": "code",
      "execution_count": 12,
      "metadata": {
        "id": "79ocJlB4IH2i"
      },
      "outputs": [],
      "source": [
        "def not_false(list1):\n",
        "   return list(filter(None, list1))"
      ]
    },
    {
      "cell_type": "code",
      "source": [
        "lst1 = (False, 1,2,3,4,5,0,0,0, 9 , 9, 9, None)\n",
        "\n",
        "not_false(lst1)"
      ],
      "metadata": {
        "colab": {
          "base_uri": "https://localhost:8080/"
        },
        "id": "hX2-Mm4VOqVK",
        "outputId": "1e7ac3b4-f74d-451e-8d00-97bdc685f1dd"
      },
      "execution_count": 13,
      "outputs": [
        {
          "output_type": "execute_result",
          "data": {
            "text/plain": [
              "[1, 2, 3, 4, 5, 9, 9, 9]"
            ]
          },
          "metadata": {},
          "execution_count": 13
        }
      ]
    }
  ]
}