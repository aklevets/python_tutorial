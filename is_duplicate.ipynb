{
  "nbformat": 4,
  "nbformat_minor": 0,
  "metadata": {
    "colab": {
      "provenance": []
    },
    "kernelspec": {
      "name": "python3",
      "display_name": "Python 3"
    },
    "language_info": {
      "name": "python"
    }
  },
  "cells": [
    {
      "cell_type": "code",
      "execution_count": 3,
      "metadata": {
        "id": "zTFBJDTTFny6"
      },
      "outputs": [],
      "source": [
        "def is_duplicates (list1):\n",
        "  for x in list1:\n",
        "    if(list1.count(x) > 1):\n",
        "      return True\n",
        "\n",
        "  return False"
      ]
    },
    {
      "cell_type": "code",
      "source": [
        "list123 = (1,2,3,4,5,6,7,8,9,0, 1)\n",
        "\n",
        "print(is_duplicates(list123))"
      ],
      "metadata": {
        "colab": {
          "base_uri": "https://localhost:8080/"
        },
        "id": "ZIlymjOaHQ0P",
        "outputId": "b6e21098-c2a6-425e-e8b0-e01a6c707805"
      },
      "execution_count": 5,
      "outputs": [
        {
          "output_type": "stream",
          "name": "stdout",
          "text": [
            "True\n"
          ]
        }
      ]
    }
  ]
}