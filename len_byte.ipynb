{
  "nbformat": 4,
  "nbformat_minor": 0,
  "metadata": {
    "colab": {
      "provenance": []
    },
    "kernelspec": {
      "name": "python3",
      "display_name": "Python 3"
    },
    "language_info": {
      "name": "python"
    }
  },
  "cells": [
    {
      "cell_type": "code",
      "execution_count": 1,
      "metadata": {
        "id": "-pt7zvIeSG00"
      },
      "outputs": [],
      "source": [
        "def utf8len(s):\n",
        "    return len(s.encode('utf-8'))"
      ]
    },
    {
      "cell_type": "code",
      "source": [
        "a = \"qwertyui asdfghj zxcvbn\"\n",
        "print(utf8len(a))"
      ],
      "metadata": {
        "colab": {
          "base_uri": "https://localhost:8080/"
        },
        "id": "A6N_pz6rS5uC",
        "outputId": "f3e102de-96ab-4ba9-b33d-c24c3789e135"
      },
      "execution_count": 2,
      "outputs": [
        {
          "output_type": "stream",
          "name": "stdout",
          "text": [
            "23\n"
          ]
        }
      ]
    }
  ]
}