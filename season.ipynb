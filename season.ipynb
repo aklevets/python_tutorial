{
  "nbformat": 4,
  "nbformat_minor": 0,
  "metadata": {
    "colab": {
      "provenance": []
    },
    "kernelspec": {
      "name": "python3",
      "display_name": "Python 3"
    },
    "language_info": {
      "name": "python"
    }
  },
  "cells": [
    {
      "cell_type": "code",
      "execution_count": 9,
      "metadata": {
        "id": "s7PKypgT-cYr"
      },
      "outputs": [],
      "source": [
        "def season(month):\n",
        "  if(month ==12 or month < 3): return \"Winter\"\n",
        "  elif (month >= 3 and month < 6): return \"Spring\"\n",
        "  elif (month >= 6 and month < 9): return \"Summer\"\n",
        "  else: return \"Autumn\""
      ]
    },
    {
      "cell_type": "code",
      "source": [
        "print(season(1))\n",
        "print(season(2))\n",
        "print(season(3))\n",
        "print(season(4))\n",
        "print(season(5))\n",
        "print(season(6))\n",
        "print(season(7))\n",
        "print(season(8))\n",
        "print(season(9))\n",
        "print(season(10))\n",
        "print(season(11))\n",
        "print(season(12))\n"
      ],
      "metadata": {
        "colab": {
          "base_uri": "https://localhost:8080/"
        },
        "id": "OV4feYcVAN0P",
        "outputId": "05ca841e-be4f-4f11-e173-3fed3b9c3428"
      },
      "execution_count": 10,
      "outputs": [
        {
          "output_type": "stream",
          "name": "stdout",
          "text": [
            "Winter\n",
            "Winter\n",
            "Spring\n",
            "Spring\n",
            "Spring\n",
            "Summer\n",
            "Summer\n",
            "Summer\n",
            "Autumn\n",
            "Autumn\n",
            "Autumn\n",
            "Winter\n"
          ]
        }
      ]
    }
  ]
}