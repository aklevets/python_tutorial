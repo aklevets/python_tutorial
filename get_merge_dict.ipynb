{
  "nbformat": 4,
  "nbformat_minor": 0,
  "metadata": {
    "colab": {
      "provenance": []
    },
    "kernelspec": {
      "name": "python3",
      "display_name": "Python 3"
    },
    "language_info": {
      "name": "python"
    }
  },
  "cells": [
    {
      "cell_type": "code",
      "execution_count": 3,
      "metadata": {
        "id": "NYrMs6euEGjJ"
      },
      "outputs": [],
      "source": [
        "def get_merge_map(map1, map2):\n",
        "  if(type(map1) != dict and type(map2) != dict):\n",
        "    return\n",
        "\n",
        "  else:\n",
        "    result = {**map1, **map2}\n",
        "    return result"
      ]
    },
    {
      "cell_type": "code",
      "source": [
        "a = {1: 'fish', 2: 'chips', 3: 'jelly', 4: 'time'}\n",
        "b = {'сто': 100, 'девяносто': 90, 'двенадцать': 12, 'пять': 5}\n",
        "\n",
        "print(get_merge_map(a, b))"
      ],
      "metadata": {
        "colab": {
          "base_uri": "https://localhost:8080/"
        },
        "id": "cIaUFxBHHh0w",
        "outputId": "2b4aac8b-3055-4662-b0be-d5e07bd754f4"
      },
      "execution_count": 4,
      "outputs": [
        {
          "output_type": "stream",
          "name": "stdout",
          "text": [
            "{1: 'fish', 2: 'chips', 3: 'jelly', 4: 'time', 'сто': 100, 'девяносто': 90, 'двенадцать': 12, 'пять': 5}\n"
          ]
        }
      ]
    }
  ]
}