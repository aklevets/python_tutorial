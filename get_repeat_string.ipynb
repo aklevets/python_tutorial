{
  "nbformat": 4,
  "nbformat_minor": 0,
  "metadata": {
    "colab": {
      "provenance": []
    },
    "kernelspec": {
      "name": "python3",
      "display_name": "Python 3"
    },
    "language_info": {
      "name": "python"
    }
  },
  "cells": [
    {
      "cell_type": "code",
      "execution_count": 3,
      "metadata": {
        "id": "d_tMeEmlPjCV"
      },
      "outputs": [],
      "source": [
        "from logging import NullHandler\n",
        "def repeat_string (string, n):\n",
        "  if(type(string) == str and type(n) == int):\n",
        "    return string * n\n",
        "\n",
        "  else: return"
      ]
    },
    {
      "cell_type": "code",
      "source": [
        "a = \"colleage\"\n",
        "print(repeat_string(a, 5.1))"
      ],
      "metadata": {
        "colab": {
          "base_uri": "https://localhost:8080/"
        },
        "id": "sM4nYtwhQIsj",
        "outputId": "7bd495a9-5cee-4c72-8281-110e055a6cc7"
      },
      "execution_count": 5,
      "outputs": [
        {
          "output_type": "stream",
          "name": "stdout",
          "text": [
            "None\n"
          ]
        }
      ]
    }
  ]
}