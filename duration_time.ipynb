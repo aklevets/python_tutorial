{
  "nbformat": 4,
  "nbformat_minor": 0,
  "metadata": {
    "colab": {
      "provenance": []
    },
    "kernelspec": {
      "name": "python3",
      "display_name": "Python 3"
    },
    "language_info": {
      "name": "python"
    }
  },
  "cells": [
    {
      "cell_type": "code",
      "execution_count": 18,
      "metadata": {
        "id": "OO1_gf-BQJI-"
      },
      "outputs": [],
      "source": [
        "\n",
        "def duration_time(time_start, time_finish):\n",
        "  if(type(time_start) != datetime.datetime and type(time_finish) != datetime.datetime):\n",
        "    return\n",
        "\n",
        "  return time_finish - time_start"
      ]
    },
    {
      "cell_type": "code",
      "source": [
        "import datetime\n",
        "\n",
        "data_time_start = datetime.datetime.now()\n",
        "for x in range(100000000):\n",
        "  a = x\n",
        "\n",
        "datetime_finish = datetime.datetime.now()\n",
        "\n",
        "print(duration_time(data_time_start, datetime_finish))\n",
        "\n"
      ],
      "metadata": {
        "colab": {
          "base_uri": "https://localhost:8080/"
        },
        "id": "59qLaeShRGy7",
        "outputId": "f388009e-f342-414f-f372-7b934ced466a"
      },
      "execution_count": 19,
      "outputs": [
        {
          "output_type": "stream",
          "name": "stdout",
          "text": [
            "0:00:08.382122\n"
          ]
        }
      ]
    }
  ]
}