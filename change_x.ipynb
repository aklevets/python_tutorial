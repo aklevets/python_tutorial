{
  "nbformat": 4,
  "nbformat_minor": 0,
  "metadata": {
    "colab": {
      "provenance": []
    },
    "kernelspec": {
      "name": "python3",
      "display_name": "Python 3"
    },
    "language_info": {
      "name": "python"
    }
  },
  "cells": [
    {
      "cell_type": "code",
      "execution_count": 5,
      "metadata": {
        "id": "ktdc8bWzDfB0"
      },
      "outputs": [],
      "source": [
        "def change (x, y):\n",
        "  x, y = y, x\n",
        "  return x, y"
      ]
    },
    {
      "cell_type": "code",
      "source": [
        "print(change(10, 100))"
      ],
      "metadata": {
        "colab": {
          "base_uri": "https://localhost:8080/"
        },
        "id": "P6Y9z-Z8EHLo",
        "outputId": "1d3813c9-0737-4050-d2f5-028eeae79cef"
      },
      "execution_count": 6,
      "outputs": [
        {
          "output_type": "stream",
          "name": "stdout",
          "text": [
            "(100, 10)\n"
          ]
        }
      ]
    }
  ]
}