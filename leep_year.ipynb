{
  "nbformat": 4,
  "nbformat_minor": 0,
  "metadata": {
    "colab": {
      "provenance": []
    },
    "kernelspec": {
      "name": "python3",
      "display_name": "Python 3"
    },
    "language_info": {
      "name": "python"
    }
  },
  "cells": [
    {
      "cell_type": "code",
      "execution_count": 3,
      "metadata": {
        "id": "vg-FQRpGyg3Z"
      },
      "outputs": [],
      "source": [
        "def is_leep (year):\n",
        "  is_leep_year = False\n",
        "  if((year % 4 == 0 and year %100 != 0) or year % 400 == 0): is_leep_year = True\n",
        "\n",
        "  return is_leep_year"
      ]
    },
    {
      "cell_type": "code",
      "source": [
        "print(is_leep (2001))"
      ],
      "metadata": {
        "colab": {
          "base_uri": "https://localhost:8080/"
        },
        "id": "qF_ubm3x0PBw",
        "outputId": "0810f481-7dbb-4457-99bc-97b4c7134c86"
      },
      "execution_count": 5,
      "outputs": [
        {
          "output_type": "stream",
          "name": "stdout",
          "text": [
            "False\n"
          ]
        }
      ]
    }
  ]
}