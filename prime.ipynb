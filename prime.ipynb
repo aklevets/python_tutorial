{
  "nbformat": 4,
  "nbformat_minor": 0,
  "metadata": {
    "colab": {
      "provenance": []
    },
    "kernelspec": {
      "name": "python3",
      "display_name": "Python 3"
    },
    "language_info": {
      "name": "python"
    }
  },
  "cells": [
    {
      "cell_type": "code",
      "execution_count": 12,
      "metadata": {
        "id": "MH9mUgLIGS4Y"
      },
      "outputs": [],
      "source": [
        "def is_prime (number):\n",
        "  i = 2\n",
        "  res = True\n",
        "\n",
        "  while i <= round(number / 2):\n",
        "    if(number % i == 0): res = False\n",
        "    i = i + 1\n",
        "\n",
        "  return res"
      ]
    },
    {
      "cell_type": "code",
      "source": [
        "print(is_prime (12))"
      ],
      "metadata": {
        "colab": {
          "base_uri": "https://localhost:8080/"
        },
        "id": "hmwf1CNiIoU6",
        "outputId": "3c76984d-c83a-44b0-e753-7657c75c9ccf"
      },
      "execution_count": 13,
      "outputs": [
        {
          "output_type": "stream",
          "name": "stdout",
          "text": [
            "False\n"
          ]
        }
      ]
    }
  ]
}