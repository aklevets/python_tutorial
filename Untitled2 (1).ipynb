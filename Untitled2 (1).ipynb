{
  "nbformat": 4,
  "nbformat_minor": 0,
  "metadata": {
    "colab": {
      "provenance": []
    },
    "kernelspec": {
      "name": "python3",
      "display_name": "Python 3"
    },
    "language_info": {
      "name": "python"
    }
  },
  "cells": [
    {
      "cell_type": "code",
      "execution_count": 6,
      "metadata": {
        "id": "NjKlSnwBGHAj"
      },
      "outputs": [],
      "source": [
        "def aritmetic(number_a, number_b, math_oper):\n",
        "    if (type(number_a) == int and type(number_b) == int and (math_oper == \"+\" or math_oper == \"-\" or math_oper == \"*\" or math_oper == \"/\")):\n",
        "        if math_oper == '*' : return (number_a * number_b)\n",
        "        elif  math_oper == '/' : return number_a / number_b\n",
        "        elif  math_oper == '+': return number_a + number_b\n",
        "        elif math_oper == '-' : return number_a - number_b\n",
        "    else :\n",
        "      return \"wrong operation\""
      ]
    },
    {
      "cell_type": "code",
      "source": [
        "print(aritmetic(22, 32, '-'))\n",
        "print(aritmetic(15, 32, 7))\n"
      ],
      "metadata": {
        "colab": {
          "base_uri": "https://localhost:8080/"
        },
        "id": "_efK5P47HYa-",
        "outputId": "9b53cb22-6c1d-4e7c-870f-b711ae8c7df5"
      },
      "execution_count": 7,
      "outputs": [
        {
          "output_type": "stream",
          "name": "stdout",
          "text": [
            "-10\n",
            "wrong operation\n"
          ]
        }
      ]
    }
  ]
}