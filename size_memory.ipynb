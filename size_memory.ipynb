{
  "nbformat": 4,
  "nbformat_minor": 0,
  "metadata": {
    "colab": {
      "provenance": []
    },
    "kernelspec": {
      "name": "python3",
      "display_name": "Python 3"
    },
    "language_info": {
      "name": "python"
    }
  },
  "cells": [
    {
      "cell_type": "code",
      "execution_count": 6,
      "metadata": {
        "id": "ar-GbJnfP_ZU"
      },
      "outputs": [],
      "source": [
        "def get_memory(var):\n",
        "  return sys.getsizeof(var)"
      ]
    },
    {
      "cell_type": "code",
      "source": [
        "import sys\n",
        "var1 = 100\n",
        "var2 = 100.344\n",
        "var3 = 'q'\n",
        "var4 = \"kljiodfjgjrdklgjfdmfkdlsgjfdsikjgkrs jidgj ejij iergio jiorjgi orjigoj ioj\"\n",
        "var5 = {\"q\" , \"w\", \"s\", \"j\"}\n",
        "\n",
        "print(\"int\", get_memory(var1))\n",
        "print(\"-----------\")\n",
        "print(\"float\", get_memory(var2))\n",
        "print(\"___________________\")\n",
        "print(\"char\" , get_memory(var3))\n",
        "print(\"_________________\")\n",
        "print(\"string\", get_memory(var4))\n",
        "print(\"0000000000000000000000000000\")\n",
        "print(\"dic\", get_memory(var5))\n"
      ],
      "metadata": {
        "colab": {
          "base_uri": "https://localhost:8080/"
        },
        "id": "r3r-EISUQuUU",
        "outputId": "16f1f416-fe42-4913-a51c-fe41962fc8e3"
      },
      "execution_count": 9,
      "outputs": [
        {
          "output_type": "stream",
          "name": "stdout",
          "text": [
            "int 28\n",
            "-----------\n",
            "float 24\n",
            "___________________\n",
            "char 50\n",
            "_________________\n",
            "string 123\n",
            "0000000000000000000000000000\n",
            "dic 216\n"
          ]
        }
      ]
    }
  ]
}