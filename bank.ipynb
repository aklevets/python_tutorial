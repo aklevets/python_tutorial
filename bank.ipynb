{
  "nbformat": 4,
  "nbformat_minor": 0,
  "metadata": {
    "colab": {
      "provenance": []
    },
    "kernelspec": {
      "name": "python3",
      "display_name": "Python 3"
    },
    "language_info": {
      "name": "python"
    }
  },
  "cells": [
    {
      "cell_type": "code",
      "execution_count": 9,
      "metadata": {
        "id": "FYNQWE7-wuUn"
      },
      "outputs": [],
      "source": [
        "def bank(a, years):\n",
        "  rate = 0.1\n",
        "  final_amount = a * (1 + rate) ** years\n",
        "  return round(final_amount, 2)"
      ]
    },
    {
      "cell_type": "code",
      "source": [
        "print(bank(1000000, 5))"
      ],
      "metadata": {
        "colab": {
          "base_uri": "https://localhost:8080/"
        },
        "id": "d0dA6CXFElxU",
        "outputId": "f8a97aae-54ca-4359-d0b0-999784b453b0"
      },
      "execution_count": 10,
      "outputs": [
        {
          "output_type": "stream",
          "name": "stdout",
          "text": [
            "1610510.0\n"
          ]
        }
      ]
    },
    {
      "cell_type": "code",
      "source": [
        "print(bank(1000, 10))"
      ],
      "metadata": {
        "colab": {
          "base_uri": "https://localhost:8080/"
        },
        "id": "V1P-Ljnl0w_u",
        "outputId": "4b0c2b12-4467-4d91-d6f4-e367dd5ad13f"
      },
      "execution_count": 11,
      "outputs": [
        {
          "output_type": "stream",
          "name": "stdout",
          "text": [
            "1100.0\n",
            "2200.0\n",
            "3300.0\n",
            "4400.0\n",
            "4400.0\n"
          ]
        }
      ]
    }
  ]
}