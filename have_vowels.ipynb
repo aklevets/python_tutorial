{
  "nbformat": 4,
  "nbformat_minor": 0,
  "metadata": {
    "colab": {
      "provenance": []
    },
    "kernelspec": {
      "name": "python3",
      "display_name": "Python 3"
    },
    "language_info": {
      "name": "python"
    }
  },
  "cells": [
    {
      "cell_type": "code",
      "execution_count": 52,
      "metadata": {
        "id": "m1sddfdwo2jp"
      },
      "outputs": [],
      "source": [
        "def has_vowel(string):\n",
        "  str1 = list(string)\n",
        "  string_vowels =  [\"e\", \"i\", \"o\", \"u\",\"a\"]\n",
        "  set_vowels = set()\n",
        "  print(type(set_vowels))\n",
        "  for x in str1:\n",
        "    for y in string_vowels:\n",
        "      if(x == y):\n",
        "        set_vowels.add(y)\n",
        "\n",
        "\n",
        "  return set_vowels"
      ]
    },
    {
      "cell_type": "code",
      "source": [
        "str = \"answerui\"\n",
        "print(has_vowel(str))"
      ],
      "metadata": {
        "colab": {
          "base_uri": "https://localhost:8080/"
        },
        "id": "PspCXBvZr4xl",
        "outputId": "eed777f4-59d8-48d1-9b22-aa8d91bc5778"
      },
      "execution_count": 54,
      "outputs": [
        {
          "output_type": "stream",
          "name": "stdout",
          "text": [
            "<class 'set'>\n",
            "{'a', 'i', 'e', 'u'}\n"
          ]
        }
      ]
    }
  ]
}